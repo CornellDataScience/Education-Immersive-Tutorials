{
 "cells": [
  {
   "cell_type": "markdown",
   "metadata": {},
   "source": [
    "# Intro\n",
    "This notebook is an example-driven tutorial on how to use the script `split_notebook.py`. At the top of `split_notebook.py`, there is precise documentation on the script's behavior; however, this example-driven tutorial is probably easier to follow.\n",
    "\n",
    "\n",
    "## Purpose of the script\n",
    "In the past, the education team has maintained separate \"release\" and \"solution\" versions of each assignment. With `split_notebook.py`, the education team can maintain a single master notebook for each assignment, and then run `split_notebook.py` on the master notebook to create release and solution versions.\n",
    "\n",
    "The master version should never be published publically; it's only for internal use.\n",
    "\n",
    "The release and solution version should never be edited directly; instead, edit the master version."
   ]
  },
  {
   "cell_type": "markdown",
   "metadata": {},
   "source": [
    "## Running the command\n",
    "\n",
    "Open up a terminal. Navigate to the folder containing this tutorial. Then run the following command:\n",
    "\n",
    "`python3 split_notebook.py fa2020 'Notebook Splitter Tutorial.ipynb' .`\n",
    "\n",
    "(We'll go over what those arguments mean later.)\n",
    "\n",
    "You'll see two new files in the current directory: `Notebook Splitter Tutorial-RELEASE.ipynb` and `Notebook Splitter Tutorial-SOLUTION.ipynb`. We just treated this file as a master file, creating release and solution versions. \n",
    "\n",
    "As we go through the following examples, I suggest you compare this master file with the release and solution files you just created."
   ]
  },
  {
   "cell_type": "markdown",
   "metadata": {},
   "source": [
    "## Control Tags\n",
    "\n",
    "In the master file, add \"control tags\" to specify what should go in release vs. solution. Control tags start with the double pound sign \"##\". There are three types of control tags:\n",
    "\n",
    "1. Solution tags (e.g. `## SOLUTION`)\n",
    "2. Release tags (e.g. `## RELEASE`)\n",
    "3. Output tags (e.g. `## CLEAR OUTPUT`)"
   ]
  },
  {
   "cell_type": "markdown",
   "metadata": {},
   "source": [
    "# Excluding Cells\n",
    "\n",
    "Solution and release tags at the top of a cell specify that the cell should only be in one version.\n",
    "\n",
    "This only works if the solution/release tag is the ONLY text on the first line of a cell.\n",
    "\n",
    "Note: Don't put a blank line after the control tag -- this will result in a cell in release/solution that starts with a blank line, which is ugly."
   ]
  },
  {
   "cell_type": "code",
   "execution_count": 37,
   "metadata": {},
   "outputs": [],
   "source": [
    "## RELEASE\n",
    "# this cell will only be in the release version\n",
    "\n",
    "version = \"RELEASE\""
   ]
  },
  {
   "cell_type": "code",
   "execution_count": 38,
   "metadata": {},
   "outputs": [],
   "source": [
    "## SOLUTION\n",
    "# this cell will only be in the solution version\n",
    "\n",
    "version = \"SOLUTION\""
   ]
  },
  {
   "cell_type": "code",
   "execution_count": null,
   "metadata": {},
   "outputs": [],
   "source": [
    "# this cell will be in both versions\n",
    "\n",
    "print(\"This file is the \" + version + \" version.\")"
   ]
  },
  {
   "cell_type": "markdown",
   "metadata": {},
   "source": [
    "# Excluding Lines\n",
    "Solution and release tags can also be added at the end of lines to omit just those lines, rather than the whole cell.\n",
    "\n",
    "If a line is commented out but given a release tag, it will be uncommented in release. Same for lines with solution tags. (This is useful for seeing what your release and solution notebooks will look like. You can comment out all of the solution lines in a section to see what the release looks like, or vice versa. That same strategy can also be used to obtain the desired cell outputs, as cell outputs are copied into the release and solution.)"
   ]
  },
  {
   "cell_type": "code",
   "execution_count": 22,
   "metadata": {},
   "outputs": [
    {
     "name": "stdout",
     "output_type": "stream",
     "text": [
      "hello world\n",
      "release\n",
      "solution\n"
     ]
    }
   ],
   "source": [
    "print(\"hello world\")\n",
    "print(\"release\") ## RELEASE\n",
    "print(\"solution\") ## SOLUTION"
   ]
  },
  {
   "cell_type": "code",
   "execution_count": 23,
   "metadata": {},
   "outputs": [
    {
     "name": "stdout",
     "output_type": "stream",
     "text": [
      "Here's a fun shape.\n",
      "-----------------\n",
      "\\               /\n",
      " \\             / \n",
      "  \\           /  \n",
      "   \\         /   \n",
      "    \\       /    \n",
      "        .        \n",
      "       / \\       \n",
      "      /   \\      \n",
      "     /     \\     \n",
      "     \\     /     \n",
      "      \\   /      \n",
      "       \\ /       \n",
      "        .        \n",
      "    /       \\    \n",
      "   /         \\   \n",
      "  /           \\  \n",
      " /             \\ \n",
      "/               \\\n",
      "-----------------\n"
     ]
    }
   ],
   "source": [
    "print(\"Here's a fun shape.\")\n",
    "# print(\"This is a downwards-facing triangle.\") ## RELEASE\n",
    "# print(\"This is an upwards-facing triangle.\") ## SOLUTION\n",
    "\n",
    "\n",
    "print(\"-----------------\") ## RELEASE\n",
    "print(\"\\               /\") ## RELEASE\n",
    "print(\" \\             / \") ## RELEASE\n",
    "print(\"  \\           /  \") ## RELEASE\n",
    "print(\"   \\         /   \") ## RELEASE\n",
    "print(\"    \\       /    \") ## RELEASE\n",
    "print(\"        .        \")       ## SOLUTION\n",
    "print(\"       / \\       \")       ## SOLUTION\n",
    "print(\"      /   \\      \")       ## SOLUTION\n",
    "print(\"     /     \\     \")       ## SOLUTION\n",
    "print(\"     \\     /     \") ## RELEASE\n",
    "print(\"      \\   /      \") ## RELEASE\n",
    "print(\"       \\ /       \") ## RELEASE\n",
    "print(\"        .        \") ## RELEASE\n",
    "print(\"    /       \\    \")       ## SOLUTION\n",
    "print(\"   /         \\   \")       ## SOLUTION\n",
    "print(\"  /           \\  \")       ## SOLUTION\n",
    "print(\" /             \\ \")       ## SOLUTION\n",
    "print(\"/               \\\\\")      ## SOLUTION\n",
    "print(\"-----------------\")       ## SOLUTION"
   ]
  },
  {
   "cell_type": "code",
   "execution_count": 24,
   "metadata": {},
   "outputs": [],
   "source": [
    "x = 1 # We can also include comments, but make sure comments come before control tags ## SOLUTION"
   ]
  },
  {
   "cell_type": "code",
   "execution_count": 27,
   "metadata": {},
   "outputs": [],
   "source": [
    "# Here's a messy detail: What if we want a comment that's on its own line to appear only in release?\n",
    "\n",
    "# This gets uncommented in release, so it's parsed as code and not a comment :( ## RELEASE\n",
    "\n",
    "## Using a double pound sign here gives us what we want! ## RELEASE "
   ]
  },
  {
   "cell_type": "markdown",
   "metadata": {},
   "source": [
    "### Here are some practical examples, written like problems given to students:"
   ]
  },
  {
   "cell_type": "code",
   "execution_count": 26,
   "metadata": {},
   "outputs": [
    {
     "name": "stdout",
     "output_type": "stream",
     "text": [
      "sum: 27\n"
     ]
    }
   ],
   "source": [
    "lst = [1,9,9,8]\n",
    "\n",
    "sum_of_lst = 0\n",
    "for i in lst:\n",
    "    # Add a line here to save the sum of the list elements seen so far\n",
    "    sum_of_lst += i ## SOLUTION\n",
    "print(\"sum:\", sum_of_lst)"
   ]
  },
  {
   "cell_type": "code",
   "execution_count": null,
   "metadata": {},
   "outputs": [],
   "source": [
    "lst_length = 0 # Replace this line ## RELEASE\n",
    "# lst_length = len(lst) ## SOLUTION\n",
    "\n",
    "## The following line throws an error, since we're dividing by 0. Replace the line above to fix it! ## RELEASE\n",
    "print(\"average:\", sum_of_lst / lst_length)"
   ]
  },
  {
   "cell_type": "markdown",
   "metadata": {},
   "source": [
    "# Clear Output\n",
    "\n",
    "The output tag is omits the output of a cell from the release version. The output remains in the solution version. \"Output\" in jupyter notebooks are the things appear underneath a code cell, including print statements, error messages, and graphs.\n",
    "\n",
    "The output tag must be the last line of a cell."
   ]
  },
  {
   "cell_type": "code",
   "execution_count": 32,
   "metadata": {},
   "outputs": [
    {
     "data": {
      "text/plain": [
       "<matplotlib.collections.PathCollection at 0x11bf0de48>"
      ]
     },
     "execution_count": 32,
     "metadata": {},
     "output_type": "execute_result"
    },
    {
     "data": {
      "image/png": "[encoded data removed]",
      "text/plain": [
       "<Figure size 432x288 with 1 Axes>"
      ]
     },
     "metadata": {
      "needs_background": "light"
     },
     "output_type": "display_data"
    }
   ],
   "source": [
    "# Example: Describe the relationship between x and y by making a scatterplot of x and y.\n",
    "from matplotlib import pyplot as plt\n",
    "x = [1,3,5,4,2]\n",
    "y = [5,3,1,2,4]\n",
    "\n",
    "## Make a scatterplot here ## RELEASE\n",
    "\n",
    "## We want the following plot to be in the solution, but we don't want it in release. ## SOLUTION\n",
    "plt.scatter(x,y)\n",
    "## CLEAR OUTPUT"
   ]
  },
  {
   "cell_type": "markdown",
   "metadata": {},
   "source": [
    "You'll probably find yourself taking the following steps ofte:\n",
    "1. Comment out the release lines. \n",
    "2. Add an output tag at the bottom of the cell.\n",
    "3. Run the cell (where only solution code will run, since release code is commented out)\n",
    "4. Run the script."
   ]
  },
  {
   "cell_type": "markdown",
   "metadata": {},
   "source": [
    "# Markdown"
   ]
  },
  {
   "cell_type": "markdown",
   "metadata": {},
   "source": [
    "## SOLUTION\n",
    "\n",
    "This cell appears in only in solution, with \"## SOLUTION\" being rendered as a markdown header."
   ]
  },
  {
   "cell_type": "markdown",
   "metadata": {},
   "source": [
    "##SOLUTION \n",
    "\n",
    "We wrote \"##SOLUTION\" at the top of this cell, with no space between the pound signs and \"SOLUTION\". This cell is only in solution. "
   ]
  },
  {
   "cell_type": "markdown",
   "metadata": {},
   "source": [
    "# Command line arguments"
   ]
  },
  {
   "cell_type": "markdown",
   "metadata": {},
   "source": [
    "This is the general form of the command:\n",
    "\n",
    "`python3 split_notebook.py <watermark> <path to master notebook> <path to folder where release and solution versions should go>`\n",
    "\n",
    "Alternatively, you can put add an extra argument if you want release and solution versions in different places:\n",
    "\n",
    "`python3 split_notebook.py <watermark> <path to master notebook> <path to folder where RELEASE should go> <path to folder where SOLUTION should go>.`\n",
    "\n",
    "For the \"watermark\", put something like \"fa2020\" or \"fa2020 a1\". The script adds a metadata field, \"notebookId\", in the release and solution .ipynb files, set to a value that is a hash of the supplied watermark. This can't be seen when opening the notebook; it can only be seen by looking at the raw text encoding of the notebook. This is useful for distinguishing between notebook versions in different semesters. If necessary, it could be used to make sure a student didn't't submit a file from a different semester.\n",
    "\n",
    "There's one last option, added just for completeness:\n",
    "\n",
    "`python3 split_notebook.py <watermark> <path to master notebook> <path to folder where RELEASE should go> <path to folder where SOLUTION should go> maintainMarkdown.`\n",
    "\n",
    "The additional `maintainMarkdown` option makes it so that in markdown cells, \"##SOLUTION\" is a control tag but \"## SOLUTION\" is not (notice the whitespace). This allows you to make a subheader in a markdown cell that says \"solution\".\n",
    "\n",
    "My suggestion: dont use the `maintainMarkdown` argument. Instead, if you want a subheader that says \"solution\", write `<h2>solution</h2>`"
   ]
  },
  {
   "cell_type": "markdown",
   "metadata": {},
   "source": [
    "# Additional Details on Control Tags"
   ]
  },
  {
   "cell_type": "code",
   "execution_count": 6,
   "metadata": {},
   "outputs": [
    {
     "name": "stdout",
     "output_type": "stream",
     "text": [
      "This cell is only in the release version, since control tags are case insensitive\n"
     ]
    }
   ],
   "source": [
    "##release\n",
    "\n",
    "print(\"This cell is only in the release version, since control tags are case insensitive\")"
   ]
  },
  {
   "cell_type": "code",
   "execution_count": 36,
   "metadata": {},
   "outputs": [
    {
     "name": "stdout",
     "output_type": "stream",
     "text": [
      "This cell will only be in the solution version, and 'oops' is removed\n"
     ]
    }
   ],
   "source": [
    "## SOLUTION oops\n",
    "\n",
    "print(\"This cell will only be in the solution version, and 'oops' is removed\")"
   ]
  },
  {
   "cell_type": "code",
   "execution_count": 9,
   "metadata": {},
   "outputs": [
    {
     "name": "stdout",
     "output_type": "stream",
     "text": [
      "ignores whitespace 1\n",
      "ignores whitespace 2\n"
     ]
    }
   ],
   "source": [
    "print(\"ignores whitespace 1\") ##release\n",
    "print(\"ignores whitespace 2\") ##      release"
   ]
  },
  {
   "cell_type": "code",
   "execution_count": 34,
   "metadata": {},
   "outputs": [
    {
     "name": "stdout",
     "output_type": "stream",
     "text": [
      "ignores whitespace 3\n"
     ]
    }
   ],
   "source": [
    "print(\"ignores whitespace 3\") \n",
    "##clearoutput"
   ]
  },
  {
   "cell_type": "code",
   "execution_count": 35,
   "metadata": {},
   "outputs": [
    {
     "name": "stdout",
     "output_type": "stream",
     "text": [
      "ignores whitespace 4\n"
     ]
    }
   ],
   "source": [
    "print(\"ignores whitespace 4\")\n",
    "## clear    output   "
   ]
  },
  {
   "cell_type": "markdown",
   "metadata": {},
   "source": [
    "\n",
    "To be safe, always use `ctrl+/` to comment out lines of code with control tags, instead of manually adding \"#\" at the beginning of the line. Manually adding \"#\" can cause the script to mess up indentation."
   ]
  },
  {
   "cell_type": "code",
   "execution_count": null,
   "metadata": {},
   "outputs": [],
   "source": []
  }
 ],
 "metadata": {
  "kernelspec": {
   "display_name": "Python 3",
   "language": "python",
   "name": "python3"
  },
  "language_info": {
   "codemirror_mode": {
    "name": "ipython",
    "version": 3
   },
   "file_extension": ".py",
   "mimetype": "text/x-python",
   "name": "python",
   "nbconvert_exporter": "python",
   "pygments_lexer": "ipython3",
   "version": "3.7.3"
  }
 },
 "nbformat": 4,
 "nbformat_minor": 4
}
